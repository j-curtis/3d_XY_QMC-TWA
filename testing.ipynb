{
 "cells": [
  {
   "cell_type": "code",
   "execution_count": 13,
   "id": "49c721a0-0c5d-4003-a38b-318d7a0a901a",
   "metadata": {},
   "outputs": [],
   "source": [
    "import numpy as np\n",
    "import QMC_square as qmc\n",
    "from matplotlib import pyplot as plt \n",
    "from matplotlib import colors as mclr\n",
    "from matplotlib import cm\n",
    "import time as time\n",
    "\n",
    "import importlib\n",
    "\n",
    "### Plotting settings \n",
    "#plt.rc('figure', dpi=100)\n",
    "#plt.rc('figure',figsize=(4,1.7))\n",
    "plt.rc('font', family = 'Times New Roman')\n",
    "plt.rc('font', size = 14)\n",
    "plt.rc('text', usetex=True)\n",
    "plt.rc('xtick', labelsize=14)\n",
    "plt.rc('ytick', labelsize=14)\n",
    "plt.rc('axes', labelsize=18)\n",
    "plt.rc('lines', linewidth=2.5)"
   ]
  },
  {
   "cell_type": "code",
   "execution_count": 114,
   "id": "d508befb-0935-4ffc-89d6-d5a2e7675aa1",
   "metadata": {},
   "outputs": [],
   "source": [
    "L = 5\n",
    "M = 5\n",
    "T = 0.5\n",
    "Ej = 1.\n",
    "Ec = 0.1\n",
    "\n",
    "nburn = int(1e3)\n",
    "nsample = 20\n",
    "nstep = int(1e3)\n",
    "\n",
    "over_relax = False\n",
    "\n",
    "tf = 10.\n",
    "ntimes = 200\n",
    "\n",
    "\n"
   ]
  },
  {
   "cell_type": "code",
   "execution_count": 115,
   "id": "6eea298f-548f-462e-835d-7740de7f6c87",
   "metadata": {},
   "outputs": [],
   "source": [
    "samples = qmc.QMC(Ej,Ec,T,L,M)"
   ]
  },
  {
   "cell_type": "code",
   "execution_count": null,
   "id": "ee26e8f1-74a8-4f85-a01d-f48155a969e8",
   "metadata": {},
   "outputs": [],
   "source": [
    "samples.set_sampling(nburn,nsample,nstep)\n",
    "samples.burn()\n",
    "samples.sample()"
   ]
  },
  {
   "cell_type": "code",
   "execution_count": null,
   "id": "a6684f0c-82bd-4cab-b22d-a43596711261",
   "metadata": {},
   "outputs": [],
   "source": [
    "import TWA_square as twa"
   ]
  },
  {
   "cell_type": "code",
   "execution_count": null,
   "id": "5dc98d36-21a0-4649-9cb3-2908383f7c4c",
   "metadata": {},
   "outputs": [],
   "source": [
    "importlib.reload(twa)"
   ]
  },
  {
   "cell_type": "code",
   "execution_count": null,
   "id": "96d6770d-07b7-43f9-8a7d-13ebb5a0f2b1",
   "metadata": {},
   "outputs": [],
   "source": [
    "twa_sim = twa.TWDynamics(samples,tf,ntimes)"
   ]
  },
  {
   "cell_type": "code",
   "execution_count": null,
   "id": "b9f1a47f-250b-4b4c-862b-3176b6dd7cbd",
   "metadata": {},
   "outputs": [],
   "source": [
    "twa_sim.run_dynamics()"
   ]
  },
  {
   "cell_type": "code",
   "execution_count": null,
   "id": "1ba864f6-dcdb-4e29-b3a5-8e652c5ec8d0",
   "metadata": {},
   "outputs": [],
   "source": [
    "twa_sim.dof_t.shape"
   ]
  },
  {
   "cell_type": "code",
   "execution_count": null,
   "id": "0d2c97c2-a2c1-408f-bdd9-1b10a1bd6608",
   "metadata": {},
   "outputs": [],
   "source": [
    "plt.imshow(twa_sim.dof_t[0,1,:,:,0],origin='lower')\n",
    "plt.colorbar()\n",
    "plt.show()"
   ]
  },
  {
   "cell_type": "code",
   "execution_count": null,
   "id": "f092fab4-fb5c-4ecc-9c86-03f2c9815dbd",
   "metadata": {},
   "outputs": [],
   "source": [
    "for i in range(nsample):\n",
    "    plt.plot(twa_sim.times,twa_sim.trajectories[:,0,0,i])\n",
    "plt.xlim(0.,1.)\n",
    "plt.show()"
   ]
  },
  {
   "cell_type": "code",
   "execution_count": null,
   "id": "0e317ebd-8313-4732-b318-eb8a58c9c40c",
   "metadata": {},
   "outputs": [],
   "source": [
    "print(twa_sim.times[0])"
   ]
  },
  {
   "cell_type": "code",
   "execution_count": null,
   "id": "f124a383-af1b-48b9-824c-49de15f420a2",
   "metadata": {},
   "outputs": [],
   "source": []
  }
 ],
 "metadata": {
  "kernelspec": {
   "display_name": "Python 3 (ipykernel)",
   "language": "python",
   "name": "python3"
  },
  "language_info": {
   "codemirror_mode": {
    "name": "ipython",
    "version": 3
   },
   "file_extension": ".py",
   "mimetype": "text/x-python",
   "name": "python",
   "nbconvert_exporter": "python",
   "pygments_lexer": "ipython3",
   "version": "3.12.4"
  }
 },
 "nbformat": 4,
 "nbformat_minor": 5
}
