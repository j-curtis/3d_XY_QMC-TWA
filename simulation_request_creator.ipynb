{
 "cells": [
  {
   "cell_type": "markdown",
   "id": "60f0ae90",
   "metadata": {},
   "source": [
    "# Request creation notebook"
   ]
  },
  {
   "cell_type": "markdown",
   "id": "030b5362",
   "metadata": {},
   "source": [
    "### Standard Python libraries"
   ]
  },
  {
   "cell_type": "code",
   "execution_count": 150,
   "id": "f562dfd6",
   "metadata": {},
   "outputs": [],
   "source": [
    "import numpy as np\n",
    "import os"
   ]
  },
  {
   "cell_type": "markdown",
   "id": "ebd83106",
   "metadata": {},
   "source": [
    "### Configure simulation options"
   ]
  },
  {
   "cell_type": "code",
   "execution_count": 151,
   "id": "65360450",
   "metadata": {},
   "outputs": [],
   "source": [
    "# Simulations machine\n",
    "#crt_simulations_machine = 'cluster_euler'\n",
    "crt_simulations_machine = 'workstation'"
   ]
  },
  {
   "cell_type": "markdown",
   "id": "8c18911d",
   "metadata": {},
   "source": [
    "### Importing the demler_tools library"
   ]
  },
  {
   "cell_type": "code",
   "execution_count": 152,
   "id": "dff0e494",
   "metadata": {
    "scrolled": true
   },
   "outputs": [
    {
     "name": "stdout",
     "output_type": "stream",
     "text": [
      "Successfully initialized path management with following parameters:\n",
      "     username:                jcurtis\n",
      "     project name:            xy_qmc\n",
      "     controlling machine:     workstation\n",
      "     library version:         v2.3.0-beta-1-g7645a25\n",
      "     auto SSH transfer:       True\n",
      "     default save location:   /scratch/savefiles\n",
      "     LTS mount point:         /home\n",
      "     email domain:            phys.ethz.ch\n",
      "     cluster OS:              Ubuntu\n",
      "     cluster partition:       work\n",
      "     SSH host file:           /home/jcurtis/.ssh/known_hosts\n",
      "     SSH key file:            /home/jcurtis/.ssh/id_ed25519_euler\n",
      "     default modules:         {'CentOS': 'gcc/8.2.0 python/3.11.2', 'Ubuntu': 'stack/2024-06 python/3.11.6'}\n"
     ]
    }
   ],
   "source": [
    "from demler_tools.file_manager import path_management, file_management\n",
    "\n",
    "path_management.initialize(project_name = 'xy_qmc')"
   ]
  },
  {
   "cell_type": "markdown",
   "id": "e7822117",
   "metadata": {},
   "source": [
    "### Parameters to use in the simulation"
   ]
  },
  {
   "cell_type": "code",
   "execution_count": 153,
   "id": "e936de4e",
   "metadata": {},
   "outputs": [],
   "source": [
    "Ej = 1.\n",
    "#Ec = 1.\n",
    "Ec = np.array([0.125,0.25,0.5,0.75,1.])\n",
    "L = 6\n",
    "#M = 10\n",
    "M = np.array([8,12,16,20,24,28],dtype=int)\n",
    "dt = 0.05\n",
    "nburn = int(1e6)\n",
    "nsample = 30\n",
    "nstep = int(1e6)"
   ]
  },
  {
   "cell_type": "markdown",
   "id": "d25f3600",
   "metadata": {},
   "source": [
    "# Creating a simulation request"
   ]
  },
  {
   "cell_type": "code",
   "execution_count": 154,
   "id": "8a17768e-fa0a-4d5d-88f9-ed14046b0314",
   "metadata": {},
   "outputs": [],
   "source": [
    "_run_parameters = file_management.single_variable_kwargs_array(_loop_tag = 'M',M=M,Ec=Ec,\n",
    "                                                               Ej=Ej,L=L,dt=dt,nburn=nburn,nsample=nsample,nstep=nstep)"
   ]
  },
  {
   "cell_type": "code",
   "execution_count": 155,
   "id": "ffe62b65",
   "metadata": {},
   "outputs": [],
   "source": [
    "_run_parameters = file_management.cartesian_product_kwargs_array(_loop_tags = ['M','Ec'], _base_arrays = [M,Ec],\n",
    "                                                               Ej=Ej,L=L,dt=dt,nburn=nburn,nsample=nsample,nstep=nstep)"
   ]
  },
  {
   "cell_type": "code",
   "execution_count": 156,
   "id": "5089f637",
   "metadata": {},
   "outputs": [
    {
     "name": "stdout",
     "output_type": "stream",
     "text": [
      "Created request folder: 1761921711\n"
     ]
    }
   ],
   "source": [
    "file_management.create_request_folder_any_machine(calculation_type = 'debug von Mises', machine_identifier = crt_simulations_machine, \n",
    "                                                  kwargs_array = _run_parameters,\n",
    "                                                  job_memory_value = 128, job_memory_unit = 'M', job_time = (14, 0, 0, 0),\n",
    "                                                  task_summary = 'Working on debugging von Mises local sampling method. Uses von Mises samping and fixed Trotter step.', verbose = True)"
   ]
  },
  {
   "cell_type": "code",
   "execution_count": null,
   "id": "e899ab84",
   "metadata": {},
   "outputs": [],
   "source": []
  },
  {
   "cell_type": "code",
   "execution_count": null,
   "id": "589708e7-46a1-4de4-9818-7122c4a511f6",
   "metadata": {},
   "outputs": [],
   "source": []
  },
  {
   "cell_type": "code",
   "execution_count": null,
   "id": "c3e6a5e2-b00c-4fbe-a57e-6947f7084b63",
   "metadata": {},
   "outputs": [],
   "source": []
  }
 ],
 "metadata": {
  "kernelspec": {
   "display_name": "Python 3 (ipykernel)",
   "language": "python",
   "name": "python3"
  },
  "language_info": {
   "codemirror_mode": {
    "name": "ipython",
    "version": 3
   },
   "file_extension": ".py",
   "mimetype": "text/x-python",
   "name": "python",
   "nbconvert_exporter": "python",
   "pygments_lexer": "ipython3",
   "version": "3.12.4"
  }
 },
 "nbformat": 4,
 "nbformat_minor": 5
}
