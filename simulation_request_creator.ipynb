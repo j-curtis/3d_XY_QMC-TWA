{
 "cells": [
  {
   "cell_type": "markdown",
   "id": "60f0ae90",
   "metadata": {},
   "source": [
    "# Request creation notebook"
   ]
  },
  {
   "cell_type": "markdown",
   "id": "030b5362",
   "metadata": {},
   "source": [
    "### Standard Python libraries"
   ]
  },
  {
   "cell_type": "code",
   "execution_count": 88,
   "id": "f562dfd6",
   "metadata": {},
   "outputs": [],
   "source": [
    "import numpy as np\n",
    "import os"
   ]
  },
  {
   "cell_type": "markdown",
   "id": "ebd83106",
   "metadata": {},
   "source": [
    "### Configure simulation options"
   ]
  },
  {
   "cell_type": "code",
   "execution_count": 89,
   "id": "65360450",
   "metadata": {},
   "outputs": [],
   "source": [
    "# Simulations machine\n",
    "crt_simulations_machine = 'cluster_euler'\n",
    "#crt_simulations_machine = 'workstation'"
   ]
  },
  {
   "cell_type": "markdown",
   "id": "8c18911d",
   "metadata": {},
   "source": [
    "### Importing the demler_tools library"
   ]
  },
  {
   "cell_type": "code",
   "execution_count": 90,
   "id": "dff0e494",
   "metadata": {},
   "outputs": [
    {
     "name": "stdout",
     "output_type": "stream",
     "text": [
      "Successfully initialized path management with following parameters:\n",
      "     username:                jcurtis\n",
      "     project name:            xy_qmc\n",
      "     controlling machine:     workstation\n",
      "     library version:         v2.3.0-beta-1-g7645a25\n",
      "     auto SSH transfer:       True\n",
      "     default save location:   /scratch/savefiles\n",
      "     LTS mount point:         /home\n",
      "     email domain:            phys.ethz.ch\n",
      "     cluster OS:              Ubuntu\n",
      "     cluster partition:       work\n",
      "     SSH host file:           /home/jcurtis/.ssh/known_hosts\n",
      "     SSH key file:            /home/jcurtis/.ssh/id_ed25519_euler\n",
      "     default modules:         {'CentOS': 'gcc/8.2.0 python/3.11.2', 'Ubuntu': 'stack/2024-06 python/3.11.6'}\n"
     ]
    }
   ],
   "source": [
    "from demler_tools.file_manager import path_management, file_management\n",
    "\n",
    "path_management.initialize(project_name = 'xy_qmc')"
   ]
  },
  {
   "cell_type": "markdown",
   "id": "e7822117",
   "metadata": {},
   "source": [
    "### Parameters to use in the simulation"
   ]
  },
  {
   "cell_type": "code",
   "execution_count": 91,
   "id": "e936de4e",
   "metadata": {},
   "outputs": [],
   "source": [
    "Ej = 1.\n",
    "Ec = 0.2\n",
    "L = 10\n",
    "M = np.array([8,12,16,24])\n",
    "dt = 0.03\n",
    "nburn = int(1e7)\n",
    "nsample = 30\n",
    "nstep = int(1e6)\n",
    "over_relax = True"
   ]
  },
  {
   "cell_type": "code",
   "execution_count": 83,
   "id": "0734919f-4610-4e88-b7aa-b436e298b554",
   "metadata": {},
   "outputs": [],
   "source": [
    "tf = 30. \n",
    "ntimes = 1000"
   ]
  },
  {
   "cell_type": "code",
   "execution_count": 84,
   "id": "d0a62c90-f9fe-4754-bc38-07fd24acedf0",
   "metadata": {},
   "outputs": [],
   "source": [
    "### Germane to hot_start filepath handling\n",
    "hot_start_filename = None"
   ]
  },
  {
   "cell_type": "markdown",
   "id": "d25f3600",
   "metadata": {},
   "source": [
    "# Creating a simulation request"
   ]
  },
  {
   "cell_type": "code",
   "execution_count": 92,
   "id": "ffe62b65",
   "metadata": {},
   "outputs": [],
   "source": [
    "_run_parameters = file_management.single_variable_kwargs_array(_loop_tag = 'M', M=M,\n",
    "                                                               Ej=Ej,Ec=Ec,L=L,dt=dt,nburn=nburn,nsample=nsample,nstep=nstep,over_relax=over_relax)"
   ]
  },
  {
   "cell_type": "code",
   "execution_count": 94,
   "id": "5089f637",
   "metadata": {},
   "outputs": [
    {
     "name": "stdout",
     "output_type": "stream",
     "text": [
      "Created request folder: 1759485104\n"
     ]
    }
   ],
   "source": [
    "file_management.create_request_folder_any_machine(calculation_type = 'eq T sweep', machine_identifier = crt_simulations_machine, \n",
    "                                                  kwargs_array = _run_parameters,\n",
    "                                                  job_memory_value = 128, job_memory_unit = 'M', job_time = (12, 0, 0, 0),\n",
    "                                                  task_summary = 'Sweeping temperature with smaller Trotter step and very long burn times to study convergence.', verbose = True)"
   ]
  },
  {
   "cell_type": "code",
   "execution_count": null,
   "id": "e899ab84",
   "metadata": {},
   "outputs": [],
   "source": []
  },
  {
   "cell_type": "code",
   "execution_count": null,
   "id": "589708e7-46a1-4de4-9818-7122c4a511f6",
   "metadata": {},
   "outputs": [],
   "source": []
  },
  {
   "cell_type": "code",
   "execution_count": null,
   "id": "c3e6a5e2-b00c-4fbe-a57e-6947f7084b63",
   "metadata": {},
   "outputs": [],
   "source": []
  }
 ],
 "metadata": {
  "kernelspec": {
   "display_name": "Python 3 (ipykernel)",
   "language": "python",
   "name": "python3"
  },
  "language_info": {
   "codemirror_mode": {
    "name": "ipython",
    "version": 3
   },
   "file_extension": ".py",
   "mimetype": "text/x-python",
   "name": "python",
   "nbconvert_exporter": "python",
   "pygments_lexer": "ipython3",
   "version": "3.12.4"
  }
 },
 "nbformat": 4,
 "nbformat_minor": 5
}
