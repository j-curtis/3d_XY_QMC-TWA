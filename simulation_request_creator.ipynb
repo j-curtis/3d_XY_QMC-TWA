{
 "cells": [
  {
   "cell_type": "markdown",
   "id": "60f0ae90",
   "metadata": {},
   "source": [
    "# Request creation notebook, example\n",
    "\n",
    "- This is used to create simulation requests, to be run either locally or on the cluster.\n",
    "- The actual running of these simulations is performed in separate notebooks."
   ]
  },
  {
   "cell_type": "markdown",
   "id": "030b5362",
   "metadata": {},
   "source": [
    "### Standard Python libraries"
   ]
  },
  {
   "cell_type": "code",
   "execution_count": 10,
   "id": "f562dfd6",
   "metadata": {},
   "outputs": [],
   "source": [
    "import numpy as np\n",
    "import os"
   ]
  },
  {
   "cell_type": "markdown",
   "id": "ebd83106",
   "metadata": {},
   "source": [
    "### Configure simulation options"
   ]
  },
  {
   "cell_type": "code",
   "execution_count": 11,
   "id": "65360450",
   "metadata": {},
   "outputs": [],
   "source": [
    "# Simulations machine\n",
    "crt_simulations_machine = 'cluster_euler'\n",
    "# crt_simulations_machine = 'workstation'"
   ]
  },
  {
   "cell_type": "markdown",
   "id": "8c18911d",
   "metadata": {},
   "source": [
    "### Importing the demler_tools library\n",
    "\n",
    "- Must be initialized (see documentation)"
   ]
  },
  {
   "cell_type": "code",
   "execution_count": 12,
   "id": "dff0e494",
   "metadata": {},
   "outputs": [
    {
     "name": "stdout",
     "output_type": "stream",
     "text": [
      "Successfully initialized path management with following parameters:\n",
      "     username:                jcurtis\n",
      "     project name:            xy_qmc\n",
      "     controlling machine:     workstation\n",
      "     library version:         v2.3.0-beta-1-g7645a25\n",
      "     auto SSH transfer:       True\n",
      "     default save location:   /scratch/savefiles\n",
      "     LTS mount point:         /home\n",
      "     email domain:            phys.ethz.ch\n",
      "     cluster OS:              Ubuntu\n",
      "     cluster partition:       work\n",
      "     SSH host file:           /home/jcurtis/.ssh/known_hosts\n",
      "     SSH key file:            /home/jcurtis/.ssh/id_ed25519_euler\n",
      "     default modules:         {'CentOS': 'gcc/8.2.0 python/3.11.2', 'Ubuntu': 'stack/2024-06 python/3.11.6'}\n"
     ]
    }
   ],
   "source": [
    "from demler_tools.file_manager import path_management, file_management\n",
    "\n",
    "path_management.initialize(project_name = 'xy_qmc')"
   ]
  },
  {
   "cell_type": "markdown",
   "id": "e7822117",
   "metadata": {},
   "source": [
    "### Defining some standard parameters to use in the simulation\n",
    "\n",
    "- These are some of the arguments which should be passed to the user-defined solver function."
   ]
  },
  {
   "cell_type": "code",
   "execution_count": 18,
   "id": "e936de4e",
   "metadata": {},
   "outputs": [],
   "source": [
    "Ej = 1.\n",
    "Ec = 0.05\n",
    "L = 10\n",
    "M = 10\n",
    "nburn = int(5e6)\n",
    "nsample = 10\n",
    "nstep = int(1e6)\n",
    "over_relax = True\n",
    "T_array = np.linspace(0.5, 3., 5)\n"
   ]
  },
  {
   "cell_type": "markdown",
   "id": "d25f3600",
   "metadata": {},
   "source": [
    "# Creating a simulation request\n",
    "### Minimal example"
   ]
  },
  {
   "cell_type": "markdown",
   "id": "c5dd23d9",
   "metadata": {},
   "source": [
    "- Typically, most calculation parameters will be kept constant, and only a few will be varied. \n",
    "- The single_variable_kwargs_array function unpacks a simple specification of one-parameter parallelization, into a form suitable for the computation.\n"
   ]
  },
  {
   "cell_type": "code",
   "execution_count": 19,
   "id": "ffe62b65",
   "metadata": {},
   "outputs": [],
   "source": [
    "_run_parameters = file_management.single_variable_kwargs_array(_loop_tag = 'T', T=T_array,\n",
    "                                                               Ej=Ej,Ec=Ec,L=L,M=M,nburn=nburn,nsample=nsample,nstep=nstep,over_relax=over_relax)"
   ]
  },
  {
   "cell_type": "markdown",
   "id": "dfc69d94",
   "metadata": {},
   "source": [
    "- Once the individual dictionaries with running parameters have been created, the request can be formulated.\n",
    "- For running on the cluster, memory and time must be explicitly requested."
   ]
  },
  {
   "cell_type": "code",
   "execution_count": 20,
   "id": "5089f637",
   "metadata": {},
   "outputs": [
    {
     "name": "stdout",
     "output_type": "stream",
     "text": [
      "Created request folder: 1755768297\n"
     ]
    }
   ],
   "source": [
    "file_management.create_request_folder_any_machine(calculation_type = 'small system huge burn', machine_identifier = crt_simulations_machine, \n",
    "                                                  kwargs_array = _run_parameters,\n",
    "                                                  job_memory_value = 128, job_memory_unit = 'M', job_time = (0, 75, 0, 0),\n",
    "                                                  task_summary = 'Small system size with many more steps between samples and longer burn time to improve decorrelation.', verbose = True)"
   ]
  },
  {
   "cell_type": "code",
   "execution_count": null,
   "id": "e899ab84",
   "metadata": {},
   "outputs": [],
   "source": []
  },
  {
   "cell_type": "code",
   "execution_count": null,
   "id": "589708e7-46a1-4de4-9818-7122c4a511f6",
   "metadata": {},
   "outputs": [],
   "source": []
  }
 ],
 "metadata": {
  "kernelspec": {
   "display_name": "Python 3 (ipykernel)",
   "language": "python",
   "name": "python3"
  },
  "language_info": {
   "codemirror_mode": {
    "name": "ipython",
    "version": 3
   },
   "file_extension": ".py",
   "mimetype": "text/x-python",
   "name": "python",
   "nbconvert_exporter": "python",
   "pygments_lexer": "ipython3",
   "version": "3.12.4"
  }
 },
 "nbformat": 4,
 "nbformat_minor": 5
}
